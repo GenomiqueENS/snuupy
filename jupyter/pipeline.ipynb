{
 "metadata": {
  "language_info": {
   "codemirror_mode": {
    "name": "ipython",
    "version": 3
   },
   "file_extension": ".py",
   "mimetype": "text/x-python",
   "name": "python",
   "nbconvert_exporter": "python",
   "pygments_lexer": "ipython3",
   "version": "3.8.5-final"
  },
  "orig_nbformat": 2,
  "kernelspec": {
   "name": "python3",
   "display_name": "Python 3"
  }
 },
 "nbformat": 4,
 "nbformat_minor": 2,
 "cells": [
  {
   "cell_type": "code",
   "execution_count": 28,
   "metadata": {},
   "outputs": [],
   "source": [
    "import jpy_tools.parseSnake as jps"
   ]
  },
  {
   "cell_type": "code",
   "execution_count": 29,
   "metadata": {},
   "outputs": [],
   "source": [
    "configPath = '/public/home/liuzj/publicPipeline/snuupy/snakemake/config.yaml'\n",
    "snakePath = '/public/home/liuzj/publicPipeline/snuupy/snakemake/snakefile'"
   ]
  },
  {
   "cell_type": "code",
   "execution_count": 30,
   "metadata": {},
   "outputs": [],
   "source": [
    "snakeFile = jps.SnakeMakeFile()"
   ]
  },
  {
   "cell_type": "code",
   "execution_count": 31,
   "metadata": {},
   "outputs": [
    {
     "output_type": "stream",
     "name": "stdout",
     "text": [
      "config contents:\n\n    pipelineDir     :/public/home/liuzj/publicPipeline/snuupy/\n\n     resultDir      :/public/home/liuzj/publicPipeline/snuupy/example/snakemakeResults/\n\n    geneAnnoBed     :/public/home/liuzj/publicPipeline/snuupy/example/00_data/ref/annoFile/gene.bed\n\n      genomeFa      :/public/home/liuzj/publicPipeline/snuupy/example/00_data/ref/annoFile/genome.fa\n\n     genomeFai      :/public/home/liuzj/publicPipeline/snuupy/example/00_data/ref/annoFile/genome.fa.fai\n\n     picardPath     :/public/home/liuzj/softwares/picard/picard.jar\n\nfirstRunCellRangerConfig:/public/home/liuzj/publicPipeline/snuupy/optimizedCellRanger/cellRangerParameter.yaml\n\nsecondRunCellRangerConfig:/public/home/liuzj/publicPipeline/snuupy/optimizedCellRanger/rerunCellRangerParameter.yaml\n\n   illuminaFastqs   :/public/home/liuzj/publicPipeline/snuupy/example/00_data/illuminaFastq/\n\n"
     ]
    }
   ],
   "source": [
    "snakeHeader = jps.SnakeHeader(snakeFile, configPath)\n",
    "snakeHeader.generateContent()"
   ]
  },
  {
   "cell_type": "code",
   "execution_count": 32,
   "metadata": {},
   "outputs": [],
   "source": [
    "runCellRanger = jps.SnakeRule(snakeFile, 'runCellRanger', 1, 2)\n",
    "runCellRanger.setInput(b=['firstRunCellRangerConfig'])\n",
    "runCellRanger.setOutput(a = ['runCellRangerFinished.empty'])\n",
    "runCellRanger.setShell(\"\"\"\n",
    "python ./optimizedCellRanger/optimizedCellRanger.py runCellRanger -p {input.firstRunCellRangerConfig} &&\\\n",
    "touch {output.runCellRangerFinished}\n",
    "\"\"\")\n",
    "runCellRanger.generateContent()"
   ]
  },
  {
   "cell_type": "code",
   "execution_count": 33,
   "metadata": {},
   "outputs": [
    {
     "output_type": "execute_result",
     "data": {
      "text/plain": [
       "{'step1ResultDir': 'step1ResultDir = f\"{config[\\'resultDir\\']}step1_runCellRanger/\"',\n",
       " 'firstRunCellRangerConfig': \"firstRunCellRangerConfig = config['firstRunCellRangerConfig']\",\n",
       " 'runCellRangerFinished': 'runCellRangerFinished = f\"{config[\\'resultDir\\']}step1_runCellRanger/runCellRangerFinished.empty\"'}"
      ]
     },
     "metadata": {},
     "execution_count": 33
    }
   ],
   "source": [
    "snakeFile.pathPool"
   ]
  },
  {
   "cell_type": "code",
   "execution_count": 34,
   "metadata": {},
   "outputs": [],
   "source": [
    "extractExonBases = jps.SnakeRule(snakeFile, 'extractExonBases', 2, 2)\n",
    "extractExonBases.setInput(a = ['runCellRangerFinished'])\n",
    "extractExonBases.setOutput(a = ['extractExonBasesFinished.empty'])\n",
    "extractExonBases.setParams(a = ['extractExonBasesTemp/', 'extractExonBasesFastq/'], b = ['picardPath', 'geneAnnoBed', 'illuminaFastqs'], c = dict(extractExonBasesCutoff = 30, extractExonBasesInBam = 'f\"{config[\\'resultDir\\']}step1_runCellRanger/test/outs/possorted_genome_bam.bam\"'))\n",
    "extractExonBases.setShell(\"\"\"\n",
    "python ./optimizedCellRanger/optimizedCellRanger.py extractExonBases --bam {params.extractExonBasesInBam} --temp {params.extractExonBasesTemp} -t {threads} --picard {params.picardPath} \\\n",
    "    --bed {params.geneAnnoBed} --fastq {params.illuminaFastqs} --out {params.extractExonBasesFastq} --cutoff {params.extractExonBasesCutoff} &&\n",
    "touch {output.extractExonBasesFinished}\n",
    "\"\"\")\n",
    "extractExonBases.generateContent()"
   ]
  },
  {
   "cell_type": "code",
   "execution_count": 35,
   "metadata": {},
   "outputs": [],
   "source": [
    "rerunCellRanger = jps.SnakeRule(snakeFile, 'rerunCellRanger', 3, 2)\n",
    "rerunCellRanger.setInput(a=['extractExonBasesFinished'], b=['secondRunCellRangerConfig'])\n",
    "rerunCellRanger.setOutput(a = ['rerunCellRangerFinished.empty'])\n",
    "rerunCellRanger.setShell(\"\"\"\n",
    "python ./optimizedCellRanger/optimizedCellRanger.py runCellRanger -p {input.secondRunCellRangerConfig} &&\\\n",
    "touch {output.rerunCellRangerFinished}\n",
    "\"\"\")\n",
    "rerunCellRanger.generateContent()"
   ]
  },
  {
   "cell_type": "code",
   "execution_count": 36,
   "metadata": {},
   "outputs": [
    {
     "output_type": "execute_result",
     "data": {
      "text/plain": [
       "{'step1ResultDir': 'step1ResultDir = f\"{config[\\'resultDir\\']}step1_runCellRanger/\"',\n",
       " 'firstRunCellRangerConfig': \"firstRunCellRangerConfig = config['firstRunCellRangerConfig']\",\n",
       " 'runCellRangerFinished': 'runCellRangerFinished = f\"{config[\\'resultDir\\']}step1_runCellRanger/runCellRangerFinished.empty\"',\n",
       " 'step2ResultDir': 'step2ResultDir = f\"{config[\\'resultDir\\']}step2_extractExonBases/\"',\n",
       " 'extractExonBasesFinished': 'extractExonBasesFinished = f\"{config[\\'resultDir\\']}step2_extractExonBases/extractExonBasesFinished.empty\"',\n",
       " 'extractExonBasesTemp': 'extractExonBasesTemp = f\"{config[\\'resultDir\\']}step2_extractExonBases/extractExonBasesTemp/\"',\n",
       " 'extractExonBasesFastq': 'extractExonBasesFastq = f\"{config[\\'resultDir\\']}step2_extractExonBases/extractExonBasesFastq/\"',\n",
       " 'picardPath': \"picardPath = config['picardPath']\",\n",
       " 'geneAnnoBed': \"geneAnnoBed = config['geneAnnoBed']\",\n",
       " 'illuminaFastqs': \"illuminaFastqs = config['illuminaFastqs']\",\n",
       " 'extractExonBasesCutoff': 'extractExonBasesCutoff = 30',\n",
       " 'extractExonBasesInBam': 'extractExonBasesInBam = f\"{config[\\'resultDir\\']}step1_runCellRanger/test/outs/possorted_genome_bam.bam\"',\n",
       " 'step3ResultDir': 'step3ResultDir = f\"{config[\\'resultDir\\']}step3_rerunCellRanger/\"',\n",
       " 'secondRunCellRangerConfig': \"secondRunCellRangerConfig = config['secondRunCellRangerConfig']\",\n",
       " 'rerunCellRangerFinished': 'rerunCellRangerFinished = f\"{config[\\'resultDir\\']}step3_rerunCellRanger/rerunCellRangerFinished.empty\"'}"
      ]
     },
     "metadata": {},
     "execution_count": 36
    }
   ],
   "source": [
    "snakeFile.pathPool"
   ]
  },
  {
   "cell_type": "code",
   "execution_count": 37,
   "metadata": {},
   "outputs": [],
   "source": [
    "parseIllumina = jps.SnakeRule(snakeFile, 'parseIllumina', 4, 2)\n",
    "parseIllumina.setInput(a = ['rerunCellRangerFinished.empty'])\n",
    "parseIllumina.setOutput(a = ['parseIlluminaResults.index'])\n",
    "parseIllumina.setParams(b = ['genomeFai'], c = dict(useBarcodeGz = 'f\"{config[\\'resultDir\\']}step3_rerunCellRanger/test/outs/filtered_feature_bc_matrix/barcodes.tsv.gz\"', useBarcode = 'f\"{config[\\'resultDir\\']}step3_rerunCellRanger/test/outs/filtered_feature_bc_matrix/barcodes.tsv\"', rerunCellRangerBam = 'f\"{config[\\'resultDir\\']}step3_rerunCellRanger/test/outs/possorted_genome_bam.bam\"',windowSize=500))\n",
    "parseIllumina.setShell(\"\"\"\n",
    "gzip -d -c {params.useBarcodeGz} > {params.useBarcode} &&\n",
    "python ./snuupy/snuupy.py parseIllumina --bam {params.rerunCellRangerBam} --barcode {params.useBarcode} --genome {params.genomeFai} --window {params.windowSize} --parsed {output.parseIlluminaResults}\n",
    "\"\"\")\n",
    "parseIllumina.generateContent()"
   ]
  },
  {
   "cell_type": "code",
   "execution_count": null,
   "metadata": {},
   "outputs": [],
   "source": []
  },
  {
   "cell_type": "code",
   "execution_count": 38,
   "metadata": {},
   "outputs": [],
   "source": [
    "snakeAll = jps.SnakeAll(snakeFile)\n",
    "snakeAll.generateContent(parseIlluminaResults=0)"
   ]
  },
  {
   "cell_type": "code",
   "execution_count": 39,
   "metadata": {},
   "outputs": [
    {
     "output_type": "stream",
     "name": "stdout",
     "text": [
      "configfile: \"/public/home/liuzj/publicPipeline/snuupy/snakemake/config.yaml\"\npipelineDir = config['pipelineDir']\n\n\nrule all:\n    input:\n        parseIlluminaResults = f\"{config['resultDir']}step4_parseIllumina/parseIlluminaResults.index\"\n\nrule runCellRanger:\n    input:\n        firstRunCellRangerConfig = config['firstRunCellRangerConfig']\n    output:\n        runCellRangerFinished = f\"{config['resultDir']}step1_runCellRanger/runCellRangerFinished.empty\"\n    params:\n        gpu = \"0\"\n\n    threads:2\n    shell:\n        \"\"\"\ncd {pipelineDir}\npython ./optimizedCellRanger/optimizedCellRanger.py runCellRanger -p {input.firstRunCellRangerConfig} &&touch {output.runCellRangerFinished}\n        \"\"\"\n\nrule extractExonBases:\n    input:\n        runCellRangerFinished = f\"{config['resultDir']}step1_runCellRanger/runCellRangerFinished.empty\"\n    output:\n        extractExonBasesFinished = f\"{config['resultDir']}step2_extractExonBases/extractExonBasesFinished.empty\"\n    params:\n        extractExonBasesTemp = f\"{config['resultDir']}step2_extractExonBases/extractExonBasesTemp/\",\n        extractExonBasesFastq = f\"{config['resultDir']}step2_extractExonBases/extractExonBasesFastq/\",\n        picardPath = config['picardPath'],\n        geneAnnoBed = config['geneAnnoBed'],\n        illuminaFastqs = config['illuminaFastqs'],\n        extractExonBasesCutoff = 30,\n        extractExonBasesInBam = f\"{config['resultDir']}step1_runCellRanger/test/outs/possorted_genome_bam.bam\",\n        gpu = \"0\"\n\n    threads:2\n    shell:\n        \"\"\"\ncd {pipelineDir}\npython ./optimizedCellRanger/optimizedCellRanger.py extractExonBases --bam {params.extractExonBasesInBam} --temp {params.extractExonBasesTemp} -t {threads} --picard {params.picardPath}     --bed {params.geneAnnoBed} --fastq {params.illuminaFastqs} --out {params.extractExonBasesFastq} --cutoff {params.extractExonBasesCutoff} &&\ntouch {output.extractExonBasesFinished}\n        \"\"\"\n\nrule rerunCellRanger:\n    input:\n        extractExonBasesFinished = f\"{config['resultDir']}step2_extractExonBases/extractExonBasesFinished.empty\",\n        secondRunCellRangerConfig = config['secondRunCellRangerConfig']\n    output:\n        rerunCellRangerFinished = f\"{config['resultDir']}step3_rerunCellRanger/rerunCellRangerFinished.empty\"\n    params:\n        gpu = \"0\"\n\n    threads:2\n    shell:\n        \"\"\"\ncd {pipelineDir}\npython ./optimizedCellRanger/optimizedCellRanger.py runCellRanger -p {input.secondRunCellRangerConfig} &&touch {output.rerunCellRangerFinished}\n        \"\"\"\n\nrule parseIllumina:\n    input:\n        rerunCellRangerFinished = f\"{config['resultDir']}step3_rerunCellRanger/rerunCellRangerFinished.empty\"\n    output:\n        parseIlluminaResults = f\"{config['resultDir']}step4_parseIllumina/parseIlluminaResults.index\"\n    params:\n        genomeFai = config['genomeFai'],\n        useBarcodeGz = f\"{config['resultDir']}step3_rerunCellRanger/test/outs/filtered_feature_bc_matrix/barcodes.tsv.gz\",\n        useBarcode = f\"{config['resultDir']}step3_rerunCellRanger/test/outs/filtered_feature_bc_matrix/barcodes.tsv\",\n        rerunCellRangerBam = f\"{config['resultDir']}step3_rerunCellRanger/test/outs/possorted_genome_bam.bam\",\n        windowSize = 500,\n        gpu = \"0\"\n\n    threads:2\n    shell:\n        \"\"\"\ncd {pipelineDir}\ngzip -d -c {params.useBarcodeGz} &&\npython ./snuupy/snuupy.py parseIllumina --bam {params.rerunCellRangerBam} --barcode {params.useBarcode} --genome {params.genomeFai} --window {params.windowSize} --parsed {output.parseIlluminaResults}\n        \"\"\"\n\n\n"
     ]
    }
   ],
   "source": [
    "snakeFile.generateContent(snakePath)"
   ]
  },
  {
   "cell_type": "code",
   "execution_count": null,
   "metadata": {},
   "outputs": [],
   "source": []
  },
  {
   "cell_type": "code",
   "execution_count": null,
   "metadata": {},
   "outputs": [],
   "source": []
  }
 ]
}