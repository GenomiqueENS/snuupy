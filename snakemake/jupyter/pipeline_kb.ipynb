{
 "metadata": {
  "language_info": {
   "codemirror_mode": {
    "name": "ipython",
    "version": 3
   },
   "file_extension": ".py",
   "mimetype": "text/x-python",
   "name": "python",
   "nbconvert_exporter": "python",
   "pygments_lexer": "ipython3",
   "version": "3.8.3-final"
  },
  "orig_nbformat": 2,
  "kernelspec": {
   "name": "python3",
   "display_name": "Python 3"
  }
 },
 "nbformat": 4,
 "nbformat_minor": 2,
 "cells": [
  {
   "cell_type": "code",
   "execution_count": 25,
   "metadata": {},
   "outputs": [],
   "source": [
    "import jpy_tools.parseSnake as jps"
   ]
  },
  {
   "cell_type": "code",
   "execution_count": 26,
   "metadata": {},
   "outputs": [],
   "source": [
    "configPath = '/public/home/liuzj/publicPipeline/snuupy/snakemake/config_kb.yaml'\n",
    "snakePath = '/public/home/liuzj/publicPipeline/snuupy/snakemake/snakefile_kb'"
   ]
  },
  {
   "cell_type": "code",
   "execution_count": 27,
   "metadata": {},
   "outputs": [],
   "source": [
    "snakeFile = jps.SnakeMakeFile()"
   ]
  },
  {
   "cell_type": "code",
   "execution_count": 28,
   "metadata": {},
   "outputs": [
    {
     "output_type": "stream",
     "name": "stdout",
     "text": [
      "config contents:\n\n    pipelineDir     :/public/home/liuzj/publicPipeline/snuupy/\n\n     resultDir      :/public/home/liuzj/publicPipeline/snuupy/example/snakemakeResults/\n\n   rawNanoporeFa    :/public/home/liuzj/publicPipeline/snuupy/example/00_data/nanopore.fa\n\n nanoporeWorkspace  :/public/home/liuzj/publicPipeline/snuupy/example/00_data/workspace\n\n nanoporeSeqSummary :/public/home/liuzj/publicPipeline/snuupy/example/00_data/nanoporeSeqSummary.txt\n\n    geneAnnoBed     :/public/home/liuzj/publicPipeline/snuupy/example/00_data/ref/annoFile/gene.bed\n\n  geneAnnoRepreBed  :/public/home/liuzj/publicPipeline/snuupy/example/00_data/ref/annoFile/araport11.representative.gene_model.bed\n\n    geneNot12Bed    :/public/home/liuzj/publicPipeline/snuupy/example/00_data/ref/annoFile/geneNotBed12.bed\n\n      genomeFa      :/public/home/liuzj/publicPipeline/snuupy/example/00_data/ref/annoFile/genome.fa\n\n     genomeFai      :/public/home/liuzj/publicPipeline/snuupy/example/00_data/ref/annoFile/genome.fa.fai\n\n     usedIntron     :/public/home/liuzj/publicPipeline/snuupy/example/00_data/ref/annoFile/select_intron_by_Cyto.id.txt\n\n    minimap2Path    :/public/home/liuzj/softwares/anaconda3/bin/minimap2\n\n     picardPath     :/public/home/liuzj/softwares/picard/picard.jar\n\n     seqkitPath     :/public/home/liuzj/softwares/anaconda3/bin/seqkit\n\n     blastPath      :/public/home/liuzj/softwares/blast/ncbi-blast-2.10.0+/bin/\n\n      poaPath       :/public/home/liuzj/softwares/poaV2/poa\n\n     raconPath      :/public/home/liuzj/softwares/racon/build/bin/racon\n\n   penaltyMatPath   :/public/home/liuzj/publicPipeline/snuupy/example/00_data/ref/blosum80.mat\n\n    bedtoolsPath    :/public/home/liuzj/softwares/anaconda3/bin/bedtools\n\nrunCellRangerConfig :/public/home/liuzj/publicPipeline/snuupy/optimizedCellRanger/cellRangerParameter.yaml\n\n   illuminaFastqs   :/public/home/liuzj/publicPipeline/snuupy/example/00_data/illuminaFastq/\n\n"
     ]
    }
   ],
   "source": [
    "snakeHeader = jps.SnakeHeader(snakeFile, configPath)\n",
    "snakeHeader.generateContent()"
   ]
  },
  {
   "cell_type": "code",
   "execution_count": 29,
   "metadata": {},
   "outputs": [],
   "source": [
    "runCellRanger = jps.SnakeRule(snakeFile, 'runCellRanger', 1, 2)\n",
    "runCellRanger.setInput(b=['runCellRangerConfig'])\n",
    "runCellRanger.setOutput(a = ['runCellRangerFinished.empty'])\n",
    "runCellRanger.setShell(\"\"\"\n",
    "python ./removeExonRegion/removeExonRegion.py runCellRanger -p {input.runCellRangerConfig} &&\\\n",
    "touch {output.runCellRangerFinished}\n",
    "\"\"\")\n",
    "runCellRanger.generateContent()"
   ]
  },
  {
   "cell_type": "code",
   "execution_count": 30,
   "metadata": {},
   "outputs": [],
   "source": [
    "parseIllumina = jps.SnakeRule(snakeFile, 'parseIllumina', 2, 2)\n",
    "parseIllumina.setInput(a = ['runCellRangerFinished.empty'])\n",
    "parseIllumina.setOutput(a = ['parseIlluminaResults.index'])\n",
    "parseIllumina.setParams(b = ['genomeFai'], c = dict(useBarcodeGz = 'f\"{config[\\'resultDir\\']}step1_runCellRanger/test/outs/filtered_feature_bc_matrix/barcodes.tsv.gz\"', useBarcode = 'f\"{config[\\'resultDir\\']}step1_runCellRanger/test/outs/filtered_feature_bc_matrix/barcodes.tsv\"', runCellRangerBam = 'f\"{config[\\'resultDir\\']}step1_runCellRanger/test/outs/possorted_genome_bam.bam\"',windowSize=500))\n",
    "parseIllumina.setShell(\"\"\"\n",
    "gzip -d -c {params.useBarcodeGz} > {params.useBarcode} &&\n",
    "python ./snuupy/snuupy.py parseIllumina --bam {params.runCellRangerBam} --barcode {params.useBarcode} --genome {params.genomeFai} --window {params.windowSize} --parsed {output.parseIlluminaResults}\n",
    "\"\"\")\n",
    "parseIllumina.generateContent()"
   ]
  },
  {
   "cell_type": "code",
   "execution_count": 31,
   "metadata": {},
   "outputs": [],
   "source": [
    "minimapMappingRaw = jps.SnakeRule(snakeFile, 'minimapMappingRaw', 3,2)\n",
    "minimapMappingRaw.setInput(b = ['rawNanoporeFa'])\n",
    "minimapMappingRaw.setOutput(a=['rawMappingResult.bam'])\n",
    "minimapMappingRaw.setParams(b = ['minimap2Path', 'genomeFa', 'geneAnnoBed'])\n",
    "minimapMappingRaw.setShell(\"\"\"\n",
    "{params.minimap2Path} -ax splice --secondary=no -uf --MD --sam-hit-only -t {threads} --junc-bed {params.geneAnnoBed} {params.genomeFa} {input.rawNanoporeFa} | samtools sort - -o {output.rawMappingResult} && samtools index {output.rawMappingResult}\n",
    "\"\"\")\n",
    "minimapMappingRaw.generateContent()"
   ]
  },
  {
   "cell_type": "code",
   "execution_count": 32,
   "metadata": {},
   "outputs": [],
   "source": [
    "addUnmappedBaseTag = jps.SnakeRule(snakeFile,'addUnmappedBaseTag', 4, 1)\n",
    "addUnmappedBaseTag.setInput(a=['rawMappingResult'])\n",
    "addUnmappedBaseTag.setOutput(a=['rawMappingResultAddUnmappedTag.bam'])\n",
    "addUnmappedBaseTag.setParams(b=['rawNanoporeFa'])\n",
    "addUnmappedBaseTag.setShell(\"\"\"\n",
    "python ./snuupy/snuupy.py addUnmappedBaseTag -i {input.rawMappingResult} -f {params.rawNanoporeFa} -o {output.rawMappingResultAddUnmappedTag}\n",
    "\"\"\")\n",
    "addUnmappedBaseTag.generateContent()"
   ]
  },
  {
   "cell_type": "code",
   "execution_count": 33,
   "metadata": {},
   "outputs": [],
   "source": [
    "generateNanoporeWindow = jps.SnakeRule(snakeFile, 'generateNanoporeWindow', 5, 5)\n",
    "generateNanoporeWindow.setInput(a=['rawMappingResultAddUnmappedTag'])\n",
    "generateNanoporeWindow.setOutput(a=['generateNanoporeWindowFinished.empty'])\n",
    "generateNanoporeWindow.setParams(a=['generateNanoporeWindow/'],b=['genomeFai'], c=dict(windowSize=500))\n",
    "generateNanoporeWindow.setShell(\"\"\"\n",
    "python ./snuupy/snuupy.py generateNanoporeWindow --genome {params.genomeFai} -b {input.rawMappingResultAddUnmappedTag} -w {params.windowSize} -o {params.generateNanoporeWindow} && touch {output.generateNanoporeWindowFinished}\n",
    "\"\"\")\n",
    "generateNanoporeWindow.generateContent()"
   ]
  },
  {
   "cell_type": "code",
   "execution_count": 34,
   "metadata": {},
   "outputs": [],
   "source": [
    "generateIlluminaWindow = jps.SnakeRule(snakeFile, 'generateIlluminaWindow', 6, 5)\n",
    "generateIlluminaWindow.setInput(a=['parseIlluminaResults'])\n",
    "generateIlluminaWindow.setOutput(a=['generateIlluminaWindowFinished.empty'])\n",
    "generateIlluminaWindow.setParams(a=['generateIlluminaWindow/'])\n",
    "generateIlluminaWindow.setShell(\"\"\"\n",
    "python ./snuupy/snuupy.py generateIlluminaWindow -i {input.parseIlluminaResults} -o {params.generateIlluminaWindow} && touch {output.generateIlluminaWindowFinished}\n",
    "\"\"\")\n",
    "generateIlluminaWindow.generateContent()"
   ]
  },
  {
   "cell_type": "code",
   "execution_count": 35,
   "metadata": {},
   "outputs": [],
   "source": [
    "windowBlast = jps.SnakeRule(snakeFile, 'windowBlast', 7, 2)\n",
    "windowBlast.setInput(a=['generateIlluminaWindowFinished', 'generateNanoporeWindowFinished'])\n",
    "windowBlast.setOutput(a=['windowBlastFinished.empty'])\n",
    "windowBlast.setParams(a=['blastResults/', 'generateIlluminaWindow/', 'generateNanoporeWindow/'], b=['blastPath'])\n",
    "windowBlast.setShell(\"\"\"\n",
    "python ./snuupy/snuupy.py windowBlast -i {params.generateIlluminaWindow} -n {params.generateNanoporeWindow} -o {params.blastResults} -t {threads} -b {params.blastPath} && touch {output.windowBlastFinished}\n",
    "\"\"\")\n",
    "windowBlast.generateContent()"
   ]
  },
  {
   "cell_type": "code",
   "execution_count": 36,
   "metadata": {},
   "outputs": [],
   "source": [
    "getMismatch = jps.SnakeRule(snakeFile, 'getMismatch', 8, 2)\n",
    "getMismatch.setInput(a=['windowBlastFinished', 'rawMappingResultAddUnmappedTag'])\n",
    "getMismatch.setOutput(a=['nanoporeED.feather'])\n",
    "getMismatch.setParams(c=dict(windowBlastMerged = 'f\"{config[\\'resultDir\\']}step9_windowBlast/blastResults/allResult.result\"'))\n",
    "getMismatch.setShell(\"\"\"\n",
    "python ./snuupy/snuupy.py getMismatch -i {params.windowBlastMerged} -b {input.rawMappingResultAddUnmappedTag} -o {output.nanoporeED} -t {threads}\n",
    "\"\"\")\n",
    "getMismatch.generateContent()"
   ]
  },
  {
   "cell_type": "code",
   "execution_count": 37,
   "metadata": {},
   "outputs": [],
   "source": [
    "barcodeAssignment = jps.SnakeRule(snakeFile, 'barcodeAssignment', 9, 2)\n",
    "barcodeAssignment.setInput(a=['nanoporeED'])\n",
    "barcodeAssignment.setOutput(a=['nanoporeAssigned.feather'])\n",
    "barcodeAssignment.setParams(c=dict(barcodeED=3, umiED=3))\n",
    "barcodeAssignment.setShell(\"\"\"\n",
    "python ./snuupy/snuupy.py barcodeAssignment -i {input.nanoporeED} -o {output.nanoporeAssigned} --ED-barcode {params.barcodeED} --ED-UMI {params.umiED}\n",
    "\"\"\")\n",
    "barcodeAssignment.generateContent()"
   ]
  },
  {
   "cell_type": "code",
   "execution_count": 38,
   "metadata": {},
   "outputs": [],
   "source": [
    "polishReads = jps.SnakeRule(snakeFile, 'polishReads', 10, 2)\n",
    "polishReads.setInput(a=['nanoporeAssigned'], b=['rawNanoporeFa'])\n",
    "polishReads.setOutput(a=['polishedReads.fa'])\n",
    "polishReads.setParams(a=['polishReadsTempRaw/', 'polishReadsTempFinal/'], b=['minimap2Path','seqkitPath', 'poaPath', 'raconPath', 'penaltyMatPath'])\n",
    "polishReads.setShell(\"\"\"\n",
    "python ./snuupy/snuupy.py polishReads -i {input.nanoporeAssigned} -f {input.rawNanoporeFa} -T {params.polishReadsTempRaw} -F {params.polishReadsTempFinal} -o {output.polishedReads} -p {params.penaltyMatPath} -t {threads} --minimap2 {params.minimap2Path} --poa {params.poaPath} --racon {params.raconPath} --seqkit {params.seqkitPath}\n",
    "\"\"\")\n",
    "polishReads.generateContent()\n",
    "\n"
   ]
  },
  {
   "cell_type": "code",
   "execution_count": 39,
   "metadata": {},
   "outputs": [],
   "source": [
    "minimapMappingPolished = jps.SnakeRule(snakeFile, 'minimapMappingPolished', 11,2)\n",
    "minimapMappingPolished.setInput(a = ['polishedReads'])\n",
    "minimapMappingPolished.setOutput(a=['polishedMappingResult.bam'])\n",
    "minimapMappingPolished.setParams(b = ['minimap2Path', 'genomeFa', 'geneAnnoBed'])\n",
    "minimapMappingPolished.setShell(\"\"\"\n",
    "{params.minimap2Path} -ax splice --secondary=no -uf --MD --sam-hit-only -t {threads} --junc-bed {params.geneAnnoBed} {params.genomeFa} {input.polishedReads} | samtools sort - -o {output.polishedMappingResult} && samtools index {output.polishedMappingResult}\n",
    "\"\"\")\n",
    "minimapMappingPolished.generateContent()"
   ]
  },
  {
   "cell_type": "code",
   "execution_count": 40,
   "metadata": {},
   "outputs": [],
   "source": [
    "addGeneName = jps.SnakeRule(snakeFile, 'addGeneName', 12, 1)\n",
    "addGeneName.setInput(a=['polishedMappingResult'])\n",
    "addGeneName.setOutput(a=['polishedReadsAddGNPickle.pickle', 'polishedReadsAddGNBam.bam'])\n",
    "addGeneName.setParams(b=['geneAnnoBed', 'bedtoolsPath'])\n",
    "addGeneName.setShell(\"\"\"\n",
    "python ./snuupy/snuupy.py addGeneName -i {input.polishedMappingResult} --bed {params.geneAnnoBed} --out-pickle {output.polishedReadsAddGNPickle} --out-bam {output.polishedReadsAddGNBam} --bedtools {params.bedtoolsPath}\n",
    "\"\"\")\n",
    "addGeneName.generateContent()"
   ]
  },
  {
   "cell_type": "code",
   "execution_count": 41,
   "metadata": {},
   "outputs": [],
   "source": [
    "getSpliceInfo = jps.SnakeRule(snakeFile, 'getSpliceInfo', 13, 1)\n",
    "getSpliceInfo.setInput(a=['polishedMappingResult', 'polishedReadsAddGNPickle'])\n",
    "getSpliceInfo.setOutput(a=['splicingInfo.tsv'])\n",
    "getSpliceInfo.setParams(b=['bedtoolsPath', 'geneAnnoRepreBed'])\n",
    "getSpliceInfo.setShell(\"\"\"\n",
    "python ./snuupy/snuupy.py getSpliceInfo -i {input.polishedMappingResult} -b {params.geneAnnoRepreBed} -o {output.splicingInfo} -g {input.polishedReadsAddGNPickle} --bedtools {params.bedtoolsPath}\n",
    "\"\"\")\n",
    "getSpliceInfo.generateContent()"
   ]
  },
  {
   "cell_type": "code",
   "execution_count": 42,
   "metadata": {},
   "outputs": [],
   "source": [
    "addPolyATag = jps.SnakeRule(snakeFile, 'addPolyATag', 14, 2)\n",
    "addPolyATag.setInput(a=['nanoporeAssigned', 'polishedReadsAddGNBam'], b=['rawNanoporeFa', 'nanoporeWorkspace', 'nanoporeSeqSummary', 'geneAnnoBed'])\n",
    "addPolyATag.setOutput(a=['polishedReadsAddGNPABam.bam'])\n",
    "addPolyATag.setParams(a=['polyACallerTemp/'] ,b=['genomeFa', 'geneAnnoBed','minimap2Path'])\n",
    "addPolyATag.setShell(\"\"\"\n",
    "    python ./snuupy/snuupy.py addPolyATag --in-fasta {input.rawNanoporeFa} --genome {params.genomeFa} -t {threads} --in-f5-workspace {input.nanoporeWorkspace} --in-f5-summary {input.nanoporeSeqSummary} --bed {params.geneAnnoBed} --tempDir {params.polyACallerTemp} --feather {input.nanoporeAssigned} --in-bam {input.polishedReadsAddGNBam} --out-bam {output.polishedReadsAddGNPABam} --minimap {params.minimap2Path}\n",
    "\"\"\")\n",
    "addPolyATag.generateContent()"
   ]
  },
  {
   "cell_type": "code",
   "execution_count": 43,
   "metadata": {},
   "outputs": [],
   "source": [
    "polyAClusterDetected = jps.SnakeRule(snakeFile, 'polyAClusterDetected', 15, 2)\n",
    "polyAClusterDetected.setInput(a=['polishedReadsAddGNPABam'])\n",
    "polyAClusterDetected.setOutput(a=['polyAClusterDetectedFinished.empty'])\n",
    "polyAClusterDetected.setParams(a=['polyACluster/'], b=['geneNot12Bed','genomeFa'])\n",
    "polyAClusterDetected.setShell(\"\"\"\n",
    "python ./snuupy/snuupy.py polyAClusterDetected --infile {input.polishedReadsAddGNPABam} --gene-bed {params.geneNot12Bed} --out-dir {params.polyACluster} -t {threads} --fasta {params.genomeFa} && touch {output.polyAClusterDetectedFinished}\n",
    "\"\"\")\n",
    "polyAClusterDetected.generateContent()"
   ]
  },
  {
   "cell_type": "code",
   "execution_count": 44,
   "metadata": {},
   "outputs": [],
   "source": [
    "generateMtx = jps.SnakeRule(snakeFile, 'generateMtx', 16)\n",
    "generateMtx.setInput(a=['splicingInfo', 'polishedReadsAddGNPABam', 'polyAClusterDetectedFinished'])\n",
    "generateMtx.setOutput(a=['generateMtxFinished.empty'])\n",
    "generateMtx.setParams(a=['IlluminaMultiMat/', 'NanoporeMultiMat/'], b=['usedIntron'] ,c=dict(illuminaExpressionMtx='f\"{config[\\'resultDir\\']}step3_rerunCellRanger/test/outs/filtered_feature_bc_matrix.h5\"', apaCluster='f\"{config[\\'resultDir\\']}step17_polyAClusterDetected/polyACluster/polya_cluster.filtered.bed\"'))\n",
    "generateMtx.setShell(\"\"\"\n",
    "python ./snuupy/snuupy.py generateMtx -i {input.splicingInfo} --in-illumina {params.illuminaExpressionMtx} --apa-pac {params.apaCluster} --apa-bam {input.polishedReadsAddGNPABam} --ir --ir-list {params.usedIntron} --out-nanopore {params.NanoporeMultiMat} --out-illumina {params.IlluminaMultiMat} && touch {output.generateMtxFinished}\n",
    "\"\"\")\n",
    "generateMtx.generateContent()"
   ]
  },
  {
   "cell_type": "code",
   "execution_count": 45,
   "metadata": {},
   "outputs": [],
   "source": [
    "snakeAll = jps.SnakeAll(snakeFile)\n",
    "snakeAll.generateContent(generateMtxFinished=0)"
   ]
  },
  {
   "cell_type": "code",
   "execution_count": 46,
   "metadata": {},
   "outputs": [
    {
     "output_type": "stream",
     "name": "stdout",
     "text": [
      "configfile: \"/public/home/liuzj/publicPipeline/snuupy/snakemake/config.yaml\"\npipelineDir = config['pipelineDir']\n\n\nrule all:\n    input:\n        generateMtxFinished = f\"{config['resultDir']}step16_generateMtx/generateMtxFinished.empty\"\n\nrule runCellRanger:\n    input:\n        runCellRangerConfig = config['runCellRangerConfig']\n    output:\n        runCellRangerFinished = f\"{config['resultDir']}step1_runCellRanger/runCellRangerFinished.empty\"\n    params:\n        gpu = \"0\"\n\n    threads:2\n    shell:\n        \"\"\"\ncd {pipelineDir}\npython ./optimizedCellRanger/optimizedCellRanger.py runCellRanger -p {input.runCellRangerConfig} &&touch {output.runCellRangerFinished}\n        \"\"\"\n\nrule parseIllumina:\n    input:\n        runCellRangerFinished = f\"{config['resultDir']}step1_runCellRanger/runCellRangerFinished.empty\"\n    output:\n        parseIlluminaResults = f\"{config['resultDir']}step2_parseIllumina/parseIlluminaResults.index\"\n    params:\n        genomeFai = config['genomeFai'],\n        useBarcodeGz = f\"{config['resultDir']}step1_runCellRanger/test/outs/filtered_feature_bc_matrix/barcodes.tsv.gz\",\n        useBarcode = f\"{config['resultDir']}step3_rerunCellRanger/test/outs/filtered_feature_bc_matrix/barcodes.tsv\",\n        runCellRangerBam = f\"{config['resultDir']}step1_runCellRanger/test/outs/possorted_genome_bam.bam\",\n        windowSize = 500,\n        gpu = \"0\"\n\n    threads:2\n    shell:\n        \"\"\"\ncd {pipelineDir}\ngzip -d -c {params.useBarcodeGz} > {params.useBarcode} &&\npython ./snuupy/snuupy.py parseIllumina --bam {params.runCellRangerBam} --barcode {params.useBarcode} --genome {params.genomeFai} --window {params.windowSize} --parsed {output.parseIlluminaResults}\n        \"\"\"\n\nrule minimapMappingRaw:\n    input:\n        rawNanoporeFa = config['rawNanoporeFa']\n    output:\n        rawMappingResult = f\"{config['resultDir']}step3_minimapMappingRaw/rawMappingResult.bam\"\n    params:\n        minimap2Path = config['minimap2Path'],\n        genomeFa = config['genomeFa'],\n        geneAnnoBed = config['geneAnnoBed'],\n        gpu = \"0\"\n\n    threads:2\n    shell:\n        \"\"\"\ncd {pipelineDir}\n{params.minimap2Path} -ax splice --secondary=no -uf --MD --sam-hit-only -t {threads} --junc-bed {params.geneAnnoBed} {params.genomeFa} {input.rawNanoporeFa} | samtools sort - -o {output.rawMappingResult} && samtools index {output.rawMappingResult}\n        \"\"\"\n\nrule addUnmappedBaseTag:\n    input:\n        rawMappingResult = f\"{config['resultDir']}step3_minimapMappingRaw/rawMappingResult.bam\"\n    output:\n        rawMappingResultAddUnmappedTag = f\"{config['resultDir']}step4_addUnmappedBaseTag/rawMappingResultAddUnmappedTag.bam\"\n    params:\n        rawNanoporeFa = config['rawNanoporeFa'],\n        gpu = \"0\"\n\n    threads:1\n    shell:\n        \"\"\"\ncd {pipelineDir}\npython ./snuupy/snuupy.py addUnmappedBaseTag -i {input.rawMappingResult} -f {params.rawNanoporeFa} -o {output.rawMappingResultAddUnmappedTag}\n        \"\"\"\n\nrule generateNanoporeWindow:\n    input:\n        rawMappingResultAddUnmappedTag = f\"{config['resultDir']}step4_addUnmappedBaseTag/rawMappingResultAddUnmappedTag.bam\"\n    output:\n        generateNanoporeWindowFinished = f\"{config['resultDir']}step5_generateNanoporeWindow/generateNanoporeWindowFinished.empty\"\n    params:\n        generateNanoporeWindow = f\"{config['resultDir']}step5_generateNanoporeWindow/generateNanoporeWindow/\",\n        genomeFai = config['genomeFai'],\n        windowSize = 500,\n        gpu = \"0\"\n\n    threads:5\n    shell:\n        \"\"\"\ncd {pipelineDir}\npython ./snuupy/snuupy.py generateNanoporeWindow --genome {params.genomeFai} -b {input.rawMappingResultAddUnmappedTag} -w {params.windowSize} -o {params.generateNanoporeWindow} && touch {output.generateNanoporeWindowFinished}\n        \"\"\"\n\nrule generateIlluminaWindow:\n    input:\n        parseIlluminaResults = f\"{config['resultDir']}step2_parseIllumina/parseIlluminaResults.index\"\n    output:\n        generateIlluminaWindowFinished = f\"{config['resultDir']}step6_generateIlluminaWindow/generateIlluminaWindowFinished.empty\"\n    params:\n        generateIlluminaWindow = f\"{config['resultDir']}step6_generateIlluminaWindow/generateIlluminaWindow/\",\n        gpu = \"0\"\n\n    threads:5\n    shell:\n        \"\"\"\ncd {pipelineDir}\npython ./snuupy/snuupy.py generateIlluminaWindow -i {input.parseIlluminaResults} -o {params.generateIlluminaWindow} && touch {output.generateIlluminaWindowFinished}\n        \"\"\"\n\nrule windowBlast:\n    input:\n        generateIlluminaWindowFinished = f\"{config['resultDir']}step6_generateIlluminaWindow/generateIlluminaWindowFinished.empty\",\n        generateNanoporeWindowFinished = f\"{config['resultDir']}step5_generateNanoporeWindow/generateNanoporeWindowFinished.empty\"\n    output:\n        windowBlastFinished = f\"{config['resultDir']}step7_windowBlast/windowBlastFinished.empty\"\n    params:\n        blastResults = f\"{config['resultDir']}step7_windowBlast/blastResults/\",\n        generateIlluminaWindow = f\"{config['resultDir']}step6_generateIlluminaWindow/generateIlluminaWindow/\",\n        generateNanoporeWindow = f\"{config['resultDir']}step5_generateNanoporeWindow/generateNanoporeWindow/\",\n        blastPath = config['blastPath'],\n        gpu = \"0\"\n\n    threads:2\n    shell:\n        \"\"\"\ncd {pipelineDir}\npython ./snuupy/snuupy.py windowBlast -i {params.generateIlluminaWindow} -n {params.generateNanoporeWindow} -o {params.blastResults} -t {threads} -b {params.blastPath} && touch {output.windowBlastFinished}\n        \"\"\"\n\nrule getMismatch:\n    input:\n        windowBlastFinished = f\"{config['resultDir']}step7_windowBlast/windowBlastFinished.empty\",\n        rawMappingResultAddUnmappedTag = f\"{config['resultDir']}step4_addUnmappedBaseTag/rawMappingResultAddUnmappedTag.bam\"\n    output:\n        nanoporeED = f\"{config['resultDir']}step8_getMismatch/nanoporeED.feather\"\n    params:\n        windowBlastMerged = f\"{config['resultDir']}step9_windowBlast/blastResults/allResult.result\",\n        gpu = \"0\"\n\n    threads:2\n    shell:\n        \"\"\"\ncd {pipelineDir}\npython ./snuupy/snuupy.py getMismatch -i {params.windowBlastMerged} -b {input.rawMappingResultAddUnmappedTag} -o {output.nanoporeED} -t {threads}\n        \"\"\"\n\nrule barcodeAssignment:\n    input:\n        nanoporeED = f\"{config['resultDir']}step8_getMismatch/nanoporeED.feather\"\n    output:\n        nanoporeAssigned = f\"{config['resultDir']}step9_barcodeAssignment/nanoporeAssigned.feather\"\n    params:\n        barcodeED = 3,\n        umiED = 3,\n        gpu = \"0\"\n\n    threads:2\n    shell:\n        \"\"\"\ncd {pipelineDir}\npython ./snuupy/snuupy.py barcodeAssignment -i {input.nanoporeED} -o {output.nanoporeAssigned} --ED-barcode {params.barcodeED} --ED-UMI {params.umiED}\n        \"\"\"\n\nrule polishReads:\n    input:\n        nanoporeAssigned = f\"{config['resultDir']}step9_barcodeAssignment/nanoporeAssigned.feather\",\n        rawNanoporeFa = config['rawNanoporeFa']\n    output:\n        polishedReads = f\"{config['resultDir']}step10_polishReads/polishedReads.fa\"\n    params:\n        polishReadsTempRaw = f\"{config['resultDir']}step10_polishReads/polishReadsTempRaw/\",\n        polishReadsTempFinal = f\"{config['resultDir']}step10_polishReads/polishReadsTempFinal/\",\n        minimap2Path = config['minimap2Path'],\n        seqkitPath = config['seqkitPath'],\n        poaPath = config['poaPath'],\n        raconPath = config['raconPath'],\n        penaltyMatPath = config['penaltyMatPath'],\n        gpu = \"0\"\n\n    threads:2\n    shell:\n        \"\"\"\ncd {pipelineDir}\npython ./snuupy/snuupy.py polishReads -i {input.nanoporeAssigned} -f {input.rawNanoporeFa} -T {params.polishReadsTempRaw} -F {params.polishReadsTempFinal} -o {output.polishedReads} -p {params.penaltyMatPath} -t {threads} --minimap2 {params.minimap2Path} --poa {params.poaPath} --racon {params.raconPath} --seqkit {params.seqkitPath}\n        \"\"\"\n\nrule minimapMappingPolished:\n    input:\n        polishedReads = f\"{config['resultDir']}step10_polishReads/polishedReads.fa\"\n    output:\n        polishedMappingResult = f\"{config['resultDir']}step11_minimapMappingPolished/polishedMappingResult.bam\"\n    params:\n        minimap2Path = config['minimap2Path'],\n        genomeFa = config['genomeFa'],\n        geneAnnoBed = config['geneAnnoBed'],\n        gpu = \"0\"\n\n    threads:2\n    shell:\n        \"\"\"\ncd {pipelineDir}\n{params.minimap2Path} -ax splice --secondary=no -uf --MD --sam-hit-only -t {threads} --junc-bed {params.geneAnnoBed} {params.genomeFa} {input.polishedReads} | samtools sort - -o {output.polishedMappingResult} && samtools index {output.polishedMappingResult}\n        \"\"\"\n\nrule addGeneName:\n    input:\n        polishedMappingResult = f\"{config['resultDir']}step11_minimapMappingPolished/polishedMappingResult.bam\"\n    output:\n        polishedReadsAddGNPickle = f\"{config['resultDir']}step12_addGeneName/polishedReadsAddGNPickle.pickle\",\n        polishedReadsAddGNBam = f\"{config['resultDir']}step12_addGeneName/polishedReadsAddGNBam.bam\"\n    params:\n        geneAnnoBed = config['geneAnnoBed'],\n        bedtoolsPath = config['bedtoolsPath'],\n        gpu = \"0\"\n\n    threads:1\n    shell:\n        \"\"\"\ncd {pipelineDir}\npython ./snuupy/snuupy.py addGeneName -i {input.polishedMappingResult} --bed {params.geneAnnoBed} --out-pickle {output.polishedReadsAddGNPickle} --out-bam {output.polishedReadsAddGNBam} --bedtools {params.bedtoolsPath}\n        \"\"\"\n\nrule getSpliceInfo:\n    input:\n        polishedMappingResult = f\"{config['resultDir']}step11_minimapMappingPolished/polishedMappingResult.bam\",\n        polishedReadsAddGNPickle = f\"{config['resultDir']}step12_addGeneName/polishedReadsAddGNPickle.pickle\"\n    output:\n        splicingInfo = f\"{config['resultDir']}step13_getSpliceInfo/splicingInfo.tsv\"\n    params:\n        bedtoolsPath = config['bedtoolsPath'],\n        geneAnnoRepreBed = config['geneAnnoRepreBed'],\n        gpu = \"0\"\n\n    threads:1\n    shell:\n        \"\"\"\ncd {pipelineDir}\npython ./snuupy/snuupy.py getSpliceInfo -i {input.polishedMappingResult} -b {params.geneAnnoRepreBed} -o {output.splicingInfo} -g {input.polishedReadsAddGNPickle} --bedtools {params.bedtoolsPath}\n        \"\"\"\n\nrule addPolyATag:\n    input:\n        nanoporeAssigned = f\"{config['resultDir']}step9_barcodeAssignment/nanoporeAssigned.feather\",\n        polishedReadsAddGNBam = f\"{config['resultDir']}step12_addGeneName/polishedReadsAddGNBam.bam\",\n        rawNanoporeFa = config['rawNanoporeFa'],\n        nanoporeWorkspace = config['nanoporeWorkspace'],\n        nanoporeSeqSummary = config['nanoporeSeqSummary'],\n        geneAnnoBed = config['geneAnnoBed']\n    output:\n        polishedReadsAddGNPABam = f\"{config['resultDir']}step14_addPolyATag/polishedReadsAddGNPABam.bam\"\n    params:\n        polyACallerTemp = f\"{config['resultDir']}step14_addPolyATag/polyACallerTemp/\",\n        genomeFa = config['genomeFa'],\n        geneAnnoBed = config['geneAnnoBed'],\n        minimap2Path = config['minimap2Path'],\n        gpu = \"0\"\n\n    threads:2\n    shell:\n        \"\"\"\ncd {pipelineDir}\npython ./snuupy/snuupy.py addPolyATag --in-fasta {input.rawNanoporeFa} --genome {params.genomeFa} -t {threads} --in-f5-workspace {input.nanoporeWorkspace} --in-f5-summary {input.nanoporeSeqSummary} --bed {params.geneAnnoBed} --tempDir {params.polyACallerTemp} --feather {input.nanoporeAssigned} --in-bam {input.polishedReadsAddGNBam} --out-bam {output.polishedReadsAddGNPABam} --minimap {params.minimap2Path}\n        \"\"\"\n\nrule polyAClusterDetected:\n    input:\n        polishedReadsAddGNPABam = f\"{config['resultDir']}step14_addPolyATag/polishedReadsAddGNPABam.bam\"\n    output:\n        polyAClusterDetectedFinished = f\"{config['resultDir']}step15_polyAClusterDetected/polyAClusterDetectedFinished.empty\"\n    params:\n        polyACluster = f\"{config['resultDir']}step15_polyAClusterDetected/polyACluster/\",\n        geneNot12Bed = config['geneNot12Bed'],\n        genomeFa = config['genomeFa'],\n        gpu = \"0\"\n\n    threads:2\n    shell:\n        \"\"\"\ncd {pipelineDir}\npython ./snuupy/snuupy.py polyAClusterDetected --infile {input.polishedReadsAddGNPABam} --gene-bed {params.geneNot12Bed} --out-dir {params.polyACluster} -t {threads} --fasta {params.genomeFa} && touch {output.polyAClusterDetectedFinished}\n        \"\"\"\n\nrule generateMtx:\n    input:\n        splicingInfo = f\"{config['resultDir']}step13_getSpliceInfo/splicingInfo.tsv\",\n        polishedReadsAddGNPABam = f\"{config['resultDir']}step14_addPolyATag/polishedReadsAddGNPABam.bam\",\n        polyAClusterDetectedFinished = f\"{config['resultDir']}step15_polyAClusterDetected/polyAClusterDetectedFinished.empty\"\n    output:\n        generateMtxFinished = f\"{config['resultDir']}step16_generateMtx/generateMtxFinished.empty\"\n    params:\n        IlluminaMultiMat = f\"{config['resultDir']}step16_generateMtx/IlluminaMultiMat/\",\n        NanoporeMultiMat = f\"{config['resultDir']}step16_generateMtx/NanoporeMultiMat/\",\n        usedIntron = config['usedIntron'],\n        illuminaExpressionMtx = f\"{config['resultDir']}step3_rerunCellRanger/test/outs/filtered_feature_bc_matrix.h5\",\n        apaCluster = f\"{config['resultDir']}step17_polyAClusterDetected/polyACluster/polya_cluster.filtered.bed\",\n        gpu = \"0\"\n\n    threads:1\n    shell:\n        \"\"\"\ncd {pipelineDir}\npython ./snuupy/snuupy.py generateMtx -i {input.splicingInfo} --in-illumina {params.illuminaExpressionMtx} --apa-pac {params.apaCluster} --apa-bam {input.polishedReadsAddGNPABam} --ir --ir-list {params.usedIntron} --out-nanopore {params.NanoporeMultiMat} --out-illumina {params.IlluminaMultiMat} && touch {output.generateMtxFinished}\n        \"\"\"\n\n\n"
     ]
    }
   ],
   "source": [
    "snakeFile.generateContent(snakePath)"
   ]
  },
  {
   "cell_type": "code",
   "execution_count": null,
   "metadata": {},
   "outputs": [],
   "source": []
  },
  {
   "cell_type": "code",
   "execution_count": null,
   "metadata": {},
   "outputs": [],
   "source": []
  }
 ]
}